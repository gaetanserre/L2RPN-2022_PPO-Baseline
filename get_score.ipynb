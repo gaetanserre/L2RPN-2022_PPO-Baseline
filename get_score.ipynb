{
 "cells": [
  {
   "cell_type": "code",
   "execution_count": 3,
   "metadata": {},
   "outputs": [],
   "source": [
    "import grid2op\n",
    "from grid2op.utils import ScoreL2RPN2022\n",
    "from agent_set import make_agent\n",
    "import numpy as np\n",
    "import os\n",
    "import json\n",
    "from lightsim2grid import LightSimBackend"
   ]
  },
  {
   "cell_type": "code",
   "execution_count": 4,
   "metadata": {},
   "outputs": [
    {
     "name": "stdout",
     "output_type": "stream",
     "text": [
      "Starts the evaluation of the agent\n"
     ]
    },
    {
     "name": "stderr",
     "output_type": "stream",
     "text": [
      "episode:  30%|███       | 609/2017 [00:05<00:13, 106.58it/s]\n",
      "episode:  22%|██▏       | 435/2017 [00:02<00:09, 159.27it/s]\n",
      "episode:   7%|▋         | 144/2017 [00:00<00:08, 218.47it/s]\n",
      "episode:   6%|▌         | 124/2017 [00:00<00:10, 186.05it/s]\n",
      "episode:   1%|▏         | 29/2017 [00:00<00:16, 117.04it/s]\n",
      "episode:   1%|          | 14/2017 [00:00<00:31, 63.98it/s]\n",
      "episode:   6%|▌         | 123/2017 [00:00<00:14, 128.38it/s]\n",
      "episode:   2%|▏         | 33/2017 [00:00<00:11, 172.83it/s]\n",
      "episode:   0%|          | 10/2017 [00:00<00:24, 81.00it/s]\n",
      "episode:   8%|▊         | 166/2017 [00:00<00:10, 183.01it/s]\n",
      "episode:  14%|█▍        | 279/2017 [00:01<00:07, 233.09it/s]\n",
      "episode:   7%|▋         | 148/2017 [00:00<00:09, 204.64it/s]\n",
      "episode:   4%|▍         | 85/2017 [00:00<00:08, 236.06it/s]\n",
      "episode:  48%|████▊     | 977/2017 [00:05<00:05, 177.08it/s]\n",
      "episode:   1%|          | 25/2017 [00:00<00:12, 162.05it/s]\n",
      "episode: 100%|██████████| 2017/2017 [00:15<00:00, 134.38it/s]\n",
      "episode:   2%|▏         | 50/2017 [00:00<00:09, 216.35it/s]\n",
      "episode:  12%|█▏        | 235/2017 [00:01<00:08, 206.54it/s]\n",
      "episode:   5%|▌         | 105/2017 [00:00<00:10, 185.95it/s]\n",
      "episode:  77%|███████▋  | 1554/2017 [00:07<00:02, 203.09it/s]\n",
      "episode:   4%|▍         | 76/2017 [00:00<00:07, 252.19it/s]\n",
      "episode:  25%|██▌       | 513/2017 [00:03<00:09, 154.23it/s]\n",
      "episode:  76%|███████▌  | 1529/2017 [00:10<00:03, 144.98it/s]\n",
      "episode:  37%|███▋      | 754/2017 [00:04<00:06, 183.50it/s]\n",
      "episode: 100%|██████████| 2017/2017 [00:11<00:00, 179.49it/s]\n",
      "episode: 100%|██████████| 2017/2017 [00:13<00:00, 154.18it/s]\n",
      "episode: 100%|██████████| 2017/2017 [00:12<00:00, 165.85it/s]\n",
      "episode: 100%|██████████| 2017/2017 [00:11<00:00, 181.14it/s]\n",
      "episode:  77%|███████▋  | 1551/2017 [00:09<00:02, 161.81it/s]\n",
      "episode: 100%|██████████| 2017/2017 [00:12<00:00, 164.86it/s]\n",
      "episode:  34%|███▍      | 687/2017 [00:04<00:08, 158.74it/s]\n",
      "episode:  48%|████▊     | 975/2017 [00:05<00:05, 181.16it/s]\n",
      "episode:  55%|█████▍    | 1100/2017 [00:06<00:05, 163.99it/s]\n",
      "episode:  24%|██▍       | 480/2017 [00:02<00:08, 175.12it/s]\n",
      "episode: 100%|██████████| 2017/2017 [00:09<00:00, 220.45it/s]\n",
      "episode:  80%|████████  | 1614/2017 [00:07<00:01, 202.15it/s]\n",
      "episode: 100%|██████████| 2017/2017 [00:14<00:00, 136.85it/s]\n",
      "episode: 100%|██████████| 2017/2017 [00:15<00:00, 127.43it/s]\n",
      "episode:  63%|██████▎   | 1263/2017 [00:10<00:06, 115.05it/s]\n",
      "episode: 100%|██████████| 2017/2017 [00:13<00:00, 152.83it/s]\n",
      "episode:  25%|██▌       | 505/2017 [00:02<00:07, 195.85it/s]\n",
      "episode: 100%|██████████| 2017/2017 [00:16<00:00, 119.06it/s]\n",
      "episode: 100%|██████████| 2017/2017 [00:13<00:00, 147.36it/s]\n",
      "episode:  12%|█▏        | 234/2017 [00:01<00:14, 119.76it/s]\n",
      "episode:  67%|██████▋   | 1358/2017 [00:08<00:04, 161.55it/s]\n",
      "episode:  15%|█▌        | 307/2017 [00:02<00:12, 139.57it/s]\n",
      "episode:  57%|█████▋    | 1142/2017 [00:07<00:05, 161.30it/s]\n",
      "episode:  24%|██▎       | 475/2017 [00:02<00:08, 182.07it/s]\n",
      "episode:  52%|█████▏    | 1051/2017 [00:05<00:05, 179.79it/s]\n",
      "episode: 100%|██████████| 2017/2017 [00:11<00:00, 171.55it/s]\n",
      "episode:  26%|██▌       | 523/2017 [00:03<00:09, 160.02it/s]\n",
      "episode:  12%|█▏        | 243/2017 [00:01<00:07, 231.08it/s]\n",
      "episode: 100%|██████████| 52/52 [06:42<00:00,  7.73s/it]\n"
     ]
    },
    {
     "name": "stdout",
     "output_type": "stream",
     "text": [
      "Start the evaluation of the scores\n",
      "Score: 23.57823946132345\n"
     ]
    }
   ],
   "source": [
    "env_names = [\"input_data_val\"]\n",
    "env_scores = {}\n",
    "\n",
    "for env_name in env_names:\n",
    "  env = grid2op.make(env_name, backend=LightSimBackend())\n",
    "  with open(os.path.join(env._init_env_path, \"scenarios_info_seeds.json\")) as f:\n",
    "    seeds = json.load(f)\n",
    "\n",
    "  env_seeds = [int(seeds[os.path.split(el)[-1]][\"seed\"]) for el in sorted(env.chronics_handler.real_data.subpaths)]\n",
    "  scorer = ScoreL2RPN2022(env, env_seeds, nb_process_stats=1, nb_scenario=len(env_seeds), verbose=2)\n",
    "  agent = make_agent(env, \".\", \"saved_model\")\n",
    "  scores, _, _ = scorer.get(agent)\n",
    "  print(f\"Score: {np.mean(scores)}\")\n",
    "  env_scores[env_name] = scores"
   ]
  },
  {
   "cell_type": "code",
   "execution_count": 5,
   "metadata": {},
   "outputs": [
    {
     "name": "stdout",
     "output_type": "stream",
     "text": [
      "input_data_val 23.57823946132345\n"
     ]
    }
   ],
   "source": [
    "for k, v in env_scores.items():\n",
    "  print(k, np.mean(v))"
   ]
  },
  {
   "cell_type": "code",
   "execution_count": 6,
   "metadata": {},
   "outputs": [],
   "source": [
    "np.save(\"study_set_agents/scores_set_agents\", env_scores[\"input_data_val\"])"
   ]
  },
  {
   "cell_type": "code",
   "execution_count": null,
   "metadata": {},
   "outputs": [],
   "source": []
  }
 ],
 "metadata": {
  "kernelspec": {
   "display_name": "Python 3.9.12 ('L2RPN')",
   "language": "python",
   "name": "python3"
  },
  "language_info": {
   "codemirror_mode": {
    "name": "ipython",
    "version": 3
   },
   "file_extension": ".py",
   "mimetype": "text/x-python",
   "name": "python",
   "nbconvert_exporter": "python",
   "pygments_lexer": "ipython3",
   "version": "3.9.12"
  },
  "orig_nbformat": 4,
  "vscode": {
   "interpreter": {
    "hash": "91a35dfe52835051810f52e811c447a0465b76bfe18baf308825e1f156f0fde9"
   }
  }
 },
 "nbformat": 4,
 "nbformat_minor": 2
}
