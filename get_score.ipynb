{
 "cells": [
  {
   "cell_type": "code",
   "execution_count": 1,
   "metadata": {},
   "outputs": [],
   "source": [
    "import grid2op\n",
    "from grid2op.utils import ScoreL2RPN2022\n",
    "from agent_set import make_agent\n",
    "import numpy as np\n",
    "import os\n",
    "import json\n",
    "from lightsim2grid import LightSimBackend"
   ]
  },
  {
   "cell_type": "code",
   "execution_count": 2,
   "metadata": {},
   "outputs": [],
   "source": [
    "env_name = \"input_data_val\""
   ]
  },
  {
   "cell_type": "code",
   "execution_count": 3,
   "metadata": {},
   "outputs": [],
   "source": [
    "with open(\"/Users/gaetanserre/data_grid2op/\"+env_name+\"/scenarios_info_seeds.json\") as f:\n",
    "  seeds = json.load(f)"
   ]
  },
  {
   "cell_type": "code",
   "execution_count": 4,
   "metadata": {},
   "outputs": [],
   "source": [
    "env = grid2op.make(env_name, backend=LightSimBackend())\n",
    "env_seeds = [int(seeds[os.path.split(el)[-1]][\"seed\"]) for el in sorted(env.chronics_handler.real_data.subpaths)]\n",
    "score = ScoreL2RPN2022(env, env_seeds, nb_process_stats=1, nb_scenario=len(env_seeds), verbose=2)"
   ]
  },
  {
   "cell_type": "code",
   "execution_count": 5,
   "metadata": {},
   "outputs": [],
   "source": [
    "agent = make_agent(env, \".\", \"saved_model\")"
   ]
  },
  {
   "cell_type": "code",
   "execution_count": 6,
   "metadata": {},
   "outputs": [
    {
     "name": "stdout",
     "output_type": "stream",
     "text": [
      "Starts the evaluation of the agent\n"
     ]
    },
    {
     "name": "stderr",
     "output_type": "stream",
     "text": [
      "episode:   0%|          | 0/2017 [00:00<?, ?it/s]\n",
      "episode:   0%|          | 0/52 [00:01<?, ?it/s]\n"
     ]
    },
    {
     "ename": "TypeError",
     "evalue": "unsupported operand type(s) for *: 'ActionWCCI2022_input_data_val' and 'float'",
     "output_type": "error",
     "traceback": [
      "\u001b[0;31m---------------------------------------------------------------------------\u001b[0m",
      "\u001b[0;31mTypeError\u001b[0m                                 Traceback (most recent call last)",
      "\u001b[1;32m/Users/gaetanserre/Documents/Projects/L2RPN/L2RPN-2022_PPO-Baseline/get_score.ipynb Cell 6\u001b[0m in \u001b[0;36m<cell line: 1>\u001b[0;34m()\u001b[0m\n\u001b[0;32m----> <a href='vscode-notebook-cell:/Users/gaetanserre/Documents/Projects/L2RPN/L2RPN-2022_PPO-Baseline/get_score.ipynb#ch0000005?line=0'>1</a>\u001b[0m scores, _, _ \u001b[39m=\u001b[39m score\u001b[39m.\u001b[39;49mget(agent)\n\u001b[1;32m      <a href='vscode-notebook-cell:/Users/gaetanserre/Documents/Projects/L2RPN/L2RPN-2022_PPO-Baseline/get_score.ipynb#ch0000005?line=1'>2</a>\u001b[0m scores \u001b[39m=\u001b[39m np\u001b[39m.\u001b[39marray(scores)\n",
      "File \u001b[0;32m~/miniconda3/envs/L2RPN/lib/python3.9/site-packages/grid2op/utils/l2rpn_2020_scores.py:353\u001b[0m, in \u001b[0;36mScoreL2RPN2020.get\u001b[0;34m(self, agent, path_save, nb_process)\u001b[0m\n\u001b[1;32m    351\u001b[0m \u001b[39mif\u001b[39;00m \u001b[39mself\u001b[39m\u001b[39m.\u001b[39mverbose \u001b[39m>\u001b[39m\u001b[39m=\u001b[39m \u001b[39m1\u001b[39m:\n\u001b[1;32m    352\u001b[0m     \u001b[39mprint\u001b[39m(\u001b[39m\"\u001b[39m\u001b[39mStarts the evaluation of the agent\u001b[39m\u001b[39m\"\u001b[39m)  \u001b[39m# TODO logger\u001b[39;00m\n\u001b[0;32m--> 353\u001b[0m EpisodeStatistics\u001b[39m.\u001b[39;49mrun_env(\n\u001b[1;32m    354\u001b[0m     \u001b[39mself\u001b[39;49m\u001b[39m.\u001b[39;49menv,\n\u001b[1;32m    355\u001b[0m     env_seeds\u001b[39m=\u001b[39;49m\u001b[39mself\u001b[39;49m\u001b[39m.\u001b[39;49menv_seeds,\n\u001b[1;32m    356\u001b[0m     agent_seeds\u001b[39m=\u001b[39;49m\u001b[39mself\u001b[39;49m\u001b[39m.\u001b[39;49magent_seeds,\n\u001b[1;32m    357\u001b[0m     path_save\u001b[39m=\u001b[39;49mpath_save,\n\u001b[1;32m    358\u001b[0m     parameters\u001b[39m=\u001b[39;49m\u001b[39mself\u001b[39;49m\u001b[39m.\u001b[39;49menv\u001b[39m.\u001b[39;49mparameters,\n\u001b[1;32m    359\u001b[0m     scores_func\u001b[39m=\u001b[39;49m\u001b[39mself\u001b[39;49m\u001b[39m.\u001b[39;49mscores_func,\n\u001b[1;32m    360\u001b[0m     agent\u001b[39m=\u001b[39;49magent,\n\u001b[1;32m    361\u001b[0m     max_step\u001b[39m=\u001b[39;49m\u001b[39mself\u001b[39;49m\u001b[39m.\u001b[39;49mmax_step,\n\u001b[1;32m    362\u001b[0m     nb_scenario\u001b[39m=\u001b[39;49m\u001b[39mself\u001b[39;49m\u001b[39m.\u001b[39;49mnb_scenario,\n\u001b[1;32m    363\u001b[0m     pbar\u001b[39m=\u001b[39;49m\u001b[39mself\u001b[39;49m\u001b[39m.\u001b[39;49mverbose \u001b[39m>\u001b[39;49m\u001b[39m=\u001b[39;49m \u001b[39m2\u001b[39;49m,\n\u001b[1;32m    364\u001b[0m     nb_process\u001b[39m=\u001b[39;49mnb_process,\n\u001b[1;32m    365\u001b[0m )\n\u001b[1;32m    366\u001b[0m \u001b[39mif\u001b[39;00m \u001b[39mself\u001b[39m\u001b[39m.\u001b[39mverbose \u001b[39m>\u001b[39m\u001b[39m=\u001b[39m \u001b[39m1\u001b[39m:\n\u001b[1;32m    367\u001b[0m     \u001b[39mprint\u001b[39m(\u001b[39m\"\u001b[39m\u001b[39mStart the evaluation of the scores\u001b[39m\u001b[39m\"\u001b[39m)  \u001b[39m# TODO logger\u001b[39;00m\n",
      "File \u001b[0;32m~/miniconda3/envs/L2RPN/lib/python3.9/site-packages/grid2op/utils/underlying_statistics.py:563\u001b[0m, in \u001b[0;36mEpisodeStatistics.run_env\u001b[0;34m(env, path_save, parameters, scores_func, agent, nb_scenario, max_step, env_seeds, agent_seeds, pbar, nb_process)\u001b[0m\n\u001b[1;32m    558\u001b[0m         \u001b[39mraise\u001b[39;00m \u001b[39mRuntimeError\u001b[39;00m(\n\u001b[1;32m    559\u001b[0m             \u001b[39m'\u001b[39m\u001b[39m\"\u001b[39m\u001b[39mscores_func\u001b[39m\u001b[39m\"\u001b[39m\u001b[39m should inherit from \u001b[39m\u001b[39m\"\u001b[39m\u001b[39mgrid2op.Reward.BaseReward\u001b[39m\u001b[39m\"\u001b[39m\u001b[39m or \u001b[39m\u001b[39m'\u001b[39m\n\u001b[1;32m    560\u001b[0m             \u001b[39m\"\u001b[39m\u001b[39mbe a dictionary\u001b[39m\u001b[39m\"\u001b[39m\n\u001b[1;32m    561\u001b[0m         )\n\u001b[1;32m    562\u001b[0m runner \u001b[39m=\u001b[39m Runner(\u001b[39m*\u001b[39m\u001b[39m*\u001b[39mdict_kwg, agentClass\u001b[39m=\u001b[39m\u001b[39mNone\u001b[39;00m, agentInstance\u001b[39m=\u001b[39magent)\n\u001b[0;32m--> 563\u001b[0m runner\u001b[39m.\u001b[39;49mrun(\n\u001b[1;32m    564\u001b[0m     path_save\u001b[39m=\u001b[39;49mpath_save,\n\u001b[1;32m    565\u001b[0m     nb_episode\u001b[39m=\u001b[39;49mnb_scenario,\n\u001b[1;32m    566\u001b[0m     max_iter\u001b[39m=\u001b[39;49mmax_step,\n\u001b[1;32m    567\u001b[0m     env_seeds\u001b[39m=\u001b[39;49menv_seeds,\n\u001b[1;32m    568\u001b[0m     agent_seeds\u001b[39m=\u001b[39;49magent_seeds,\n\u001b[1;32m    569\u001b[0m     pbar\u001b[39m=\u001b[39;49mpbar,\n\u001b[1;32m    570\u001b[0m     nb_process\u001b[39m=\u001b[39;49mnb_process,\n\u001b[1;32m    571\u001b[0m )\n",
      "File \u001b[0;32m~/miniconda3/envs/L2RPN/lib/python3.9/site-packages/grid2op/Runner/runner.py:1202\u001b[0m, in \u001b[0;36mRunner.run\u001b[0;34m(self, nb_episode, nb_process, path_save, max_iter, pbar, env_seeds, agent_seeds, episode_id, add_detailed_output)\u001b[0m\n\u001b[1;32m   1200\u001b[0m \u001b[39mif\u001b[39;00m nb_process \u001b[39m==\u001b[39m \u001b[39m1\u001b[39m:\n\u001b[1;32m   1201\u001b[0m     \u001b[39mself\u001b[39m\u001b[39m.\u001b[39mlogger\u001b[39m.\u001b[39minfo(\u001b[39m\"\u001b[39m\u001b[39mSequential runner used.\u001b[39m\u001b[39m\"\u001b[39m)\n\u001b[0;32m-> 1202\u001b[0m     res \u001b[39m=\u001b[39m \u001b[39mself\u001b[39;49m\u001b[39m.\u001b[39;49m_run_sequential(\n\u001b[1;32m   1203\u001b[0m         nb_episode,\n\u001b[1;32m   1204\u001b[0m         path_save\u001b[39m=\u001b[39;49mpath_save,\n\u001b[1;32m   1205\u001b[0m         pbar\u001b[39m=\u001b[39;49mpbar,\n\u001b[1;32m   1206\u001b[0m         env_seeds\u001b[39m=\u001b[39;49menv_seeds,\n\u001b[1;32m   1207\u001b[0m         max_iter\u001b[39m=\u001b[39;49mmax_iter,\n\u001b[1;32m   1208\u001b[0m         agent_seeds\u001b[39m=\u001b[39;49magent_seeds,\n\u001b[1;32m   1209\u001b[0m         episode_id\u001b[39m=\u001b[39;49mepisode_id,\n\u001b[1;32m   1210\u001b[0m         add_detailed_output\u001b[39m=\u001b[39;49madd_detailed_output,\n\u001b[1;32m   1211\u001b[0m     )\n\u001b[1;32m   1212\u001b[0m \u001b[39melse\u001b[39;00m:\n\u001b[1;32m   1213\u001b[0m     \u001b[39mif\u001b[39;00m add_detailed_output \u001b[39mand\u001b[39;00m (_IS_WINDOWS \u001b[39mor\u001b[39;00m _IS_MACOS):\n",
      "File \u001b[0;32m~/miniconda3/envs/L2RPN/lib/python3.9/site-packages/grid2op/Runner/runner.py:811\u001b[0m, in \u001b[0;36mRunner._run_sequential\u001b[0;34m(self, nb_episode, path_save, pbar, env_seeds, agent_seeds, max_iter, episode_id, add_detailed_output)\u001b[0m\n\u001b[1;32m    804\u001b[0m \u001b[39mif\u001b[39;00m episode_id \u001b[39mis\u001b[39;00m \u001b[39mnot\u001b[39;00m \u001b[39mNone\u001b[39;00m:\n\u001b[1;32m    805\u001b[0m     ep_id \u001b[39m=\u001b[39m episode_id[i]  \u001b[39m# otherwise i use the provided one\u001b[39;00m\n\u001b[1;32m    806\u001b[0m (\n\u001b[1;32m    807\u001b[0m     name_chron,\n\u001b[1;32m    808\u001b[0m     cum_reward,\n\u001b[1;32m    809\u001b[0m     nb_time_step,\n\u001b[1;32m    810\u001b[0m     episode_data,\n\u001b[0;32m--> 811\u001b[0m ) \u001b[39m=\u001b[39m \u001b[39mself\u001b[39;49m\u001b[39m.\u001b[39;49mrun_one_episode(\n\u001b[1;32m    812\u001b[0m     path_save\u001b[39m=\u001b[39;49mpath_save,\n\u001b[1;32m    813\u001b[0m     indx\u001b[39m=\u001b[39;49mep_id,\n\u001b[1;32m    814\u001b[0m     pbar\u001b[39m=\u001b[39;49mnext_pbar[\u001b[39m0\u001b[39;49m],\n\u001b[1;32m    815\u001b[0m     env_seed\u001b[39m=\u001b[39;49menv_seed,\n\u001b[1;32m    816\u001b[0m     agent_seed\u001b[39m=\u001b[39;49magt_seed,\n\u001b[1;32m    817\u001b[0m     max_iter\u001b[39m=\u001b[39;49mmax_iter,\n\u001b[1;32m    818\u001b[0m     detailed_output\u001b[39m=\u001b[39;49madd_detailed_output,\n\u001b[1;32m    819\u001b[0m )\n\u001b[1;32m    820\u001b[0m id_chron \u001b[39m=\u001b[39m \u001b[39mself\u001b[39m\u001b[39m.\u001b[39mchronics_handler\u001b[39m.\u001b[39mget_id()\n\u001b[1;32m    821\u001b[0m max_ts \u001b[39m=\u001b[39m \u001b[39mself\u001b[39m\u001b[39m.\u001b[39mchronics_handler\u001b[39m.\u001b[39mmax_timestep()\n",
      "File \u001b[0;32m~/miniconda3/envs/L2RPN/lib/python3.9/site-packages/grid2op/Runner/runner.py:715\u001b[0m, in \u001b[0;36mRunner.run_one_episode\u001b[0;34m(self, indx, path_save, pbar, env_seed, max_iter, agent_seed, episode_id, detailed_output)\u001b[0m\n\u001b[1;32m    713\u001b[0m \u001b[39mself\u001b[39m\u001b[39m.\u001b[39mreset()\n\u001b[1;32m    714\u001b[0m \u001b[39mwith\u001b[39;00m \u001b[39mself\u001b[39m\u001b[39m.\u001b[39minit_env() \u001b[39mas\u001b[39;00m env:\n\u001b[0;32m--> 715\u001b[0m     res \u001b[39m=\u001b[39m _aux_run_one_episode(\n\u001b[1;32m    716\u001b[0m         env,\n\u001b[1;32m    717\u001b[0m         \u001b[39mself\u001b[39;49m\u001b[39m.\u001b[39;49magent,\n\u001b[1;32m    718\u001b[0m         \u001b[39mself\u001b[39;49m\u001b[39m.\u001b[39;49mlogger,\n\u001b[1;32m    719\u001b[0m         indx,\n\u001b[1;32m    720\u001b[0m         path_save,\n\u001b[1;32m    721\u001b[0m         pbar\u001b[39m=\u001b[39;49mpbar,\n\u001b[1;32m    722\u001b[0m         env_seed\u001b[39m=\u001b[39;49menv_seed,\n\u001b[1;32m    723\u001b[0m         max_iter\u001b[39m=\u001b[39;49mmax_iter,\n\u001b[1;32m    724\u001b[0m         agent_seed\u001b[39m=\u001b[39;49magent_seed,\n\u001b[1;32m    725\u001b[0m         detailed_output\u001b[39m=\u001b[39;49mdetailed_output,\n\u001b[1;32m    726\u001b[0m     )\n\u001b[1;32m    727\u001b[0m \u001b[39mreturn\u001b[39;00m res\n",
      "File \u001b[0;32m~/miniconda3/envs/L2RPN/lib/python3.9/site-packages/grid2op/Runner/aux_fun.py:212\u001b[0m, in \u001b[0;36m_aux_run_one_episode\u001b[0;34m(env, agent, logger, indx, path_save, pbar, env_seed, agent_seed, max_iter, detailed_output)\u001b[0m\n\u001b[1;32m    210\u001b[0m \u001b[39mwhile\u001b[39;00m \u001b[39mnot\u001b[39;00m done:\n\u001b[1;32m    211\u001b[0m     beg__ \u001b[39m=\u001b[39m time\u001b[39m.\u001b[39mperf_counter()\n\u001b[0;32m--> 212\u001b[0m     act \u001b[39m=\u001b[39m agent\u001b[39m.\u001b[39;49mact(obs, reward, done)\n\u001b[1;32m    213\u001b[0m     end__ \u001b[39m=\u001b[39m time\u001b[39m.\u001b[39mperf_counter()\n\u001b[1;32m    214\u001b[0m     time_act \u001b[39m+\u001b[39m\u001b[39m=\u001b[39m end__ \u001b[39m-\u001b[39m beg__\n",
      "File \u001b[0;32m~/Documents/Projects/L2RPN/L2RPN-2022_PPO-Baseline/agent_set.py:21\u001b[0m, in \u001b[0;36mAgentSet.act\u001b[0;34m(self, obs, reward, done)\u001b[0m\n\u001b[1;32m     17\u001b[0m \u001b[39m\"\"\" actions = list(map(lambda agent: agent.act(obs, reward, done), self.agents))\u001b[39;00m\n\u001b[1;32m     18\u001b[0m \u001b[39msim_rewards = np.array(map(lambda act: obs.simulate(act, 0)[1], actions))\u001b[39;00m\n\u001b[1;32m     19\u001b[0m \u001b[39mreturn actions[np.argmax(sim_rewards)] \"\"\"\u001b[39;00m\n\u001b[1;32m     20\u001b[0m actions \u001b[39m=\u001b[39m \u001b[39mlist\u001b[39m(\u001b[39mmap\u001b[39m(\u001b[39mlambda\u001b[39;00m agent: agent\u001b[39m.\u001b[39mact(obs, reward, done), \u001b[39mself\u001b[39m\u001b[39m.\u001b[39magents))\n\u001b[0;32m---> 21\u001b[0m \u001b[39mreturn\u001b[39;00m np\u001b[39m.\u001b[39;49maverage(actions, weights\u001b[39m=\u001b[39;49m\u001b[39mself\u001b[39;49m\u001b[39m.\u001b[39;49mweights)\n",
      "File \u001b[0;32m<__array_function__ internals>:180\u001b[0m, in \u001b[0;36maverage\u001b[0;34m(*args, **kwargs)\u001b[0m\n",
      "File \u001b[0;32m~/miniconda3/envs/L2RPN/lib/python3.9/site-packages/numpy/lib/function_base.py:527\u001b[0m, in \u001b[0;36maverage\u001b[0;34m(a, axis, weights, returned)\u001b[0m\n\u001b[1;32m    523\u001b[0m     \u001b[39mif\u001b[39;00m np\u001b[39m.\u001b[39many(scl \u001b[39m==\u001b[39m \u001b[39m0.0\u001b[39m):\n\u001b[1;32m    524\u001b[0m         \u001b[39mraise\u001b[39;00m \u001b[39mZeroDivisionError\u001b[39;00m(\n\u001b[1;32m    525\u001b[0m             \u001b[39m\"\u001b[39m\u001b[39mWeights sum to zero, can\u001b[39m\u001b[39m'\u001b[39m\u001b[39mt be normalized\u001b[39m\u001b[39m\"\u001b[39m)\n\u001b[0;32m--> 527\u001b[0m     avg \u001b[39m=\u001b[39m np\u001b[39m.\u001b[39;49mmultiply(a, wgt, dtype\u001b[39m=\u001b[39;49mresult_dtype)\u001b[39m.\u001b[39msum(axis)\u001b[39m/\u001b[39mscl\n\u001b[1;32m    529\u001b[0m \u001b[39mif\u001b[39;00m returned:\n\u001b[1;32m    530\u001b[0m     \u001b[39mif\u001b[39;00m scl\u001b[39m.\u001b[39mshape \u001b[39m!=\u001b[39m avg\u001b[39m.\u001b[39mshape:\n",
      "\u001b[0;31mTypeError\u001b[0m: unsupported operand type(s) for *: 'ActionWCCI2022_input_data_val' and 'float'"
     ]
    }
   ],
   "source": [
    "scores, _, _ = score.get(agent)\n",
    "scores = np.array(scores)"
   ]
  },
  {
   "cell_type": "code",
   "execution_count": 7,
   "metadata": {},
   "outputs": [
    {
     "data": {
      "text/plain": [
       "24.221800960314667"
      ]
     },
     "execution_count": 7,
     "metadata": {},
     "output_type": "execute_result"
    }
   ],
   "source": [
    "scores.mean()"
   ]
  },
  {
   "cell_type": "code",
   "execution_count": null,
   "metadata": {},
   "outputs": [
    {
     "data": {
      "text/plain": [
       "0.7307692307692307"
      ]
     },
     "execution_count": 8,
     "metadata": {},
     "output_type": "execute_result"
    }
   ],
   "source": [
    "(scores > 0).sum() / scores.shape[0]"
   ]
  },
  {
   "cell_type": "code",
   "execution_count": null,
   "metadata": {},
   "outputs": [
    {
     "data": {
      "text/plain": [
       "array([ 2.32556913e+00,  1.84908134e+00,  2.35360626e-01,  6.54082687e-01,\n",
       "       -9.16691011e+01, -8.19769170e+01,  2.46034022e+00, -6.50966443e+00,\n",
       "       -9.30967120e+01,  1.85026956e+00, -3.79090671e+01,  8.93083108e-01,\n",
       "       -1.30374344e-02, -1.48840588e-01, -8.51684410e-02,  3.91188795e+01,\n",
       "       -7.42937470e-02, -1.37876580e-01,  0.00000000e+00,  7.94073921e+01,\n",
       "        0.00000000e+00,  1.60365379e+01,  6.05515408e+00, -2.48508298e+01,\n",
       "        7.77386254e+01, -4.25246121e-01,  7.97520570e+01,  7.91560880e+01,\n",
       "        4.49020111e+01,  7.86818538e+01,  2.41538605e+01,  2.96341187e+01,\n",
       "        4.22446128e+01,  4.46524628e+00,  7.99999994e+01,  6.00740014e+01,\n",
       "        7.92717308e+01,  7.70548402e+01,  4.02763466e+01,  7.78131336e+01,\n",
       "        1.09679644e-01,  7.88296606e+01,  7.85394759e+01, -1.32543948e-01,\n",
       "        5.20683276e+01,  7.80655622e+01,  8.11225511e+00,  1.46510904e+01,\n",
       "        2.60157958e+01,  2.80504723e+01,  1.53106001e+01, -2.38106889e+00])"
      ]
     },
     "execution_count": 10,
     "metadata": {},
     "output_type": "execute_result"
    }
   ],
   "source": [
    "scores"
   ]
  },
  {
   "cell_type": "code",
   "execution_count": null,
   "metadata": {},
   "outputs": [],
   "source": [
    "np.save(\"scores\", scores)"
   ]
  },
  {
   "cell_type": "code",
   "execution_count": null,
   "metadata": {},
   "outputs": [
    {
     "data": {
      "text/plain": [
       "(16.4, -2, 23.7, 9)"
      ]
     },
     "execution_count": 10,
     "metadata": {},
     "output_type": "execute_result"
    }
   ],
   "source": [
    "16.4, -2, 23.7, 9"
   ]
  }
 ],
 "metadata": {
  "kernelspec": {
   "display_name": "Python 3.9.12 ('L2RPN')",
   "language": "python",
   "name": "python3"
  },
  "language_info": {
   "codemirror_mode": {
    "name": "ipython",
    "version": 3
   },
   "file_extension": ".py",
   "mimetype": "text/x-python",
   "name": "python",
   "nbconvert_exporter": "python",
   "pygments_lexer": "ipython3",
   "version": "3.9.12"
  },
  "orig_nbformat": 4,
  "vscode": {
   "interpreter": {
    "hash": "91a35dfe52835051810f52e811c447a0465b76bfe18baf308825e1f156f0fde9"
   }
  }
 },
 "nbformat": 4,
 "nbformat_minor": 2
}
