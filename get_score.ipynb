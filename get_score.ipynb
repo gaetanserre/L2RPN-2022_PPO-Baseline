{
 "cells": [
  {
   "cell_type": "code",
   "execution_count": 1,
   "metadata": {},
   "outputs": [],
   "source": [
    "import grid2op\n",
    "from grid2op.utils import ScoreL2RPN2022\n",
    "from agent_set import make_agent\n",
    "import numpy as np\n",
    "import os\n",
    "import json\n",
    "from lightsim2grid import LightSimBackend"
   ]
  },
  {
   "cell_type": "code",
   "execution_count": 2,
   "metadata": {},
   "outputs": [],
   "source": [
    "env_name = \"input_data_val\""
   ]
  },
  {
   "cell_type": "code",
   "execution_count": 3,
   "metadata": {},
   "outputs": [],
   "source": [
    "with open(\"/Users/gaetanserre/data_grid2op/\"+env_name+\"/scenarios_info_seeds.json\") as f:\n",
    "  seeds = json.load(f)"
   ]
  },
  {
   "cell_type": "code",
   "execution_count": 4,
   "metadata": {},
   "outputs": [],
   "source": [
    "env = grid2op.make(env_name, backend=LightSimBackend())\n",
    "env_seeds = [int(seeds[os.path.split(el)[-1]][\"seed\"]) for el in sorted(env.chronics_handler.real_data.subpaths)]\n",
    "score = ScoreL2RPN2022(env, env_seeds, nb_process_stats=1, nb_scenario=len(env_seeds), verbose=2)"
   ]
  },
  {
   "cell_type": "code",
   "execution_count": 5,
   "metadata": {},
   "outputs": [],
   "source": [
    "agent = make_agent(env, \".\", \"saved_model\")"
   ]
  },
  {
   "cell_type": "code",
   "execution_count": 6,
   "metadata": {},
   "outputs": [
    {
     "name": "stdout",
     "output_type": "stream",
     "text": [
      "Starts the evaluation of the agent\n"
     ]
    },
    {
     "name": "stderr",
     "output_type": "stream",
     "text": [
      "episode:   6%|▌         | 125/2017 [00:00<00:10, 172.75it/s]\n",
      "episode:  12%|█▏        | 239/2017 [00:01<00:14, 120.65it/s]\n",
      "episode:   7%|▋         | 146/2017 [00:00<00:09, 202.97it/s]\n",
      "episode:  12%|█▏        | 238/2017 [00:01<00:12, 147.74it/s]\n",
      "episode:   1%|          | 14/2017 [00:00<00:15, 125.60it/s]\n",
      "episode:   0%|          | 10/2017 [00:00<00:16, 123.19it/s]\n",
      "episode:   8%|▊         | 159/2017 [00:01<00:14, 127.14it/s]\n",
      "episode:   2%|▏         | 31/2017 [00:00<00:14, 136.33it/s]\n",
      "episode:   4%|▍         | 82/2017 [00:00<00:15, 122.04it/s]\n",
      "episode:   5%|▌         | 103/2017 [00:00<00:09, 206.57it/s]\n",
      "episode:  34%|███▎      | 678/2017 [00:04<00:09, 142.84it/s]\n",
      "episode:   5%|▍         | 98/2017 [00:00<00:10, 181.80it/s]\n",
      "episode:   4%|▍         | 85/2017 [00:00<00:07, 270.56it/s]\n",
      "episode:  48%|████▊     | 975/2017 [00:07<00:07, 135.28it/s]\n",
      "episode:   1%|          | 25/2017 [00:00<00:14, 141.80it/s]\n",
      "episode:   9%|▉         | 182/2017 [00:01<00:12, 152.66it/s]\n",
      "episode:   2%|▏         | 50/2017 [00:00<00:08, 232.59it/s]\n",
      "episode:   7%|▋         | 146/2017 [00:00<00:08, 227.32it/s]\n",
      "episode:   5%|▌         | 105/2017 [00:00<00:09, 211.62it/s]\n",
      "episode:  49%|████▉     | 985/2017 [00:04<00:04, 240.21it/s]\n",
      "episode:   4%|▍         | 76/2017 [00:00<00:06, 281.62it/s]\n",
      "episode:  26%|██▌       | 523/2017 [00:03<00:09, 155.58it/s]\n",
      "episode:   6%|▌         | 117/2017 [00:00<00:06, 287.85it/s]\n",
      "episode:  37%|███▋      | 754/2017 [00:03<00:05, 237.15it/s]\n",
      "episode:   7%|▋         | 135/2017 [00:00<00:06, 279.03it/s]\n",
      "episode: 100%|██████████| 2017/2017 [00:12<00:00, 163.70it/s]\n",
      "episode:  50%|████▉     | 1007/2017 [00:04<00:04, 219.93it/s]\n",
      "episode:   6%|▋         | 131/2017 [00:00<00:07, 261.70it/s]\n",
      "episode: 100%|██████████| 2017/2017 [00:12<00:00, 158.00it/s]\n",
      "episode:  20%|██        | 409/2017 [00:01<00:06, 241.47it/s]\n",
      "episode:   5%|▍         | 95/2017 [00:00<00:09, 211.77it/s]\n",
      "episode:   6%|▋         | 129/2017 [00:00<00:06, 287.66it/s]\n",
      "episode:   5%|▌         | 103/2017 [00:00<00:07, 257.69it/s]\n",
      "episode:  24%|██▍       | 483/2017 [00:02<00:09, 169.96it/s]\n",
      "episode:  36%|███▌      | 730/2017 [00:03<00:05, 239.34it/s]\n",
      "episode: 100%|██████████| 2017/2017 [00:10<00:00, 184.78it/s]\n",
      "episode:  35%|███▍      | 698/2017 [00:02<00:05, 260.50it/s]\n",
      "episode:   8%|▊         | 164/2017 [00:00<00:07, 260.71it/s]\n",
      "episode:   9%|▊         | 172/2017 [00:00<00:07, 232.19it/s]\n",
      "episode: 100%|██████████| 2017/2017 [00:11<00:00, 171.90it/s]\n",
      "episode:  25%|██▌       | 505/2017 [00:01<00:05, 271.67it/s]\n",
      "episode: 100%|██████████| 2017/2017 [00:11<00:00, 172.62it/s]\n",
      "episode:   7%|▋         | 141/2017 [00:00<00:10, 182.18it/s]\n",
      "episode:  12%|█▏        | 234/2017 [00:01<00:10, 168.36it/s]\n",
      "episode:   7%|▋         | 150/2017 [00:00<00:07, 233.70it/s]\n",
      "episode:  15%|█▌        | 307/2017 [00:01<00:10, 158.74it/s]\n",
      "episode:   5%|▌         | 102/2017 [00:00<00:08, 224.39it/s]\n",
      "episode:   5%|▌         | 109/2017 [00:00<00:11, 172.59it/s]\n",
      "episode:   6%|▋         | 131/2017 [00:00<00:12, 147.14it/s]\n",
      "episode: 100%|██████████| 2017/2017 [00:13<00:00, 154.22it/s]\n",
      "episode:  26%|██▌       | 519/2017 [00:03<00:11, 132.75it/s]\n",
      "episode:  12%|█▏        | 240/2017 [00:01<00:08, 213.18it/s]\n",
      "episode: 100%|██████████| 52/52 [03:45<00:00,  4.34s/it]\n"
     ]
    },
    {
     "name": "stdout",
     "output_type": "stream",
     "text": [
      "Start the evaluation of the scores\n"
     ]
    }
   ],
   "source": [
    "scores, _, _ = score.get(agent)\n",
    "scores = np.array(scores)"
   ]
  },
  {
   "cell_type": "code",
   "execution_count": 7,
   "metadata": {},
   "outputs": [
    {
     "data": {
      "text/plain": [
       "-15.114191357305863"
      ]
     },
     "execution_count": 7,
     "metadata": {},
     "output_type": "execute_result"
    }
   ],
   "source": [
    "scores.mean()"
   ]
  },
  {
   "cell_type": "code",
   "execution_count": 8,
   "metadata": {},
   "outputs": [
    {
     "data": {
      "text/plain": [
       "0.38461538461538464"
      ]
     },
     "execution_count": 8,
     "metadata": {},
     "output_type": "execute_result"
    }
   ],
   "source": [
    "(scores > 0).sum() / scores.shape[0]"
   ]
  },
  {
   "cell_type": "code",
   "execution_count": 9,
   "metadata": {},
   "outputs": [
    {
     "data": {
      "text/plain": [
       "array([-7.82400230e+01,  8.03647655e+00,  1.90497500e-01,  5.32977958e+00,\n",
       "       -9.33939145e+01, -8.84135580e+01,  5.18059089e+00, -6.11258326e+00,\n",
       "       -7.05287333e+01, -2.25532265e+01,  1.83585766e+01, -2.57460902e+01,\n",
       "        0.00000000e+00, -9.00456519e-02,  0.00000000e+00,  1.86125292e+00,\n",
       "        6.83187216e-05, -4.10663945e+01,  0.00000000e+00,  1.32712288e+01,\n",
       "        0.00000000e+00,  1.65241439e+01, -7.31962651e+01, -2.48500561e+01,\n",
       "       -8.87573355e+01, -5.27732714e-01,  1.31906273e+01, -9.05696094e+01,\n",
       "        7.81460720e+01, -7.30233973e+01, -1.84247685e+01, -7.10435854e+01,\n",
       "       -2.78694617e+01,  4.51655111e+00, -8.91296754e+00,  7.83363069e+01,\n",
       "       -3.04736753e+01, -8.97779941e+01, -6.94979482e+01,  7.79803337e+01,\n",
       "        1.12156189e-01,  7.89858391e+01, -7.74512288e+01, -6.85909724e-01,\n",
       "        4.90840943e-02,  4.56443912e+00, -4.51553307e+01, -2.42375227e+01,\n",
       "       -4.55087114e+01,  7.87906850e+01,  1.87692545e+01, -2.02384542e+00])"
      ]
     },
     "execution_count": 9,
     "metadata": {},
     "output_type": "execute_result"
    }
   ],
   "source": [
    "scores"
   ]
  },
  {
   "cell_type": "code",
   "execution_count": 10,
   "metadata": {},
   "outputs": [
    {
     "data": {
      "text/plain": [
       "(16.4, -2, 23.7, 9)"
      ]
     },
     "execution_count": 10,
     "metadata": {},
     "output_type": "execute_result"
    }
   ],
   "source": [
    "16.4, -2, 23.7, 9"
   ]
  }
 ],
 "metadata": {
  "kernelspec": {
   "display_name": "Python 3.9.12 ('L2RPN')",
   "language": "python",
   "name": "python3"
  },
  "language_info": {
   "codemirror_mode": {
    "name": "ipython",
    "version": 3
   },
   "file_extension": ".py",
   "mimetype": "text/x-python",
   "name": "python",
   "nbconvert_exporter": "python",
   "pygments_lexer": "ipython3",
   "version": "3.9.12"
  },
  "orig_nbformat": 4,
  "vscode": {
   "interpreter": {
    "hash": "91a35dfe52835051810f52e811c447a0465b76bfe18baf308825e1f156f0fde9"
   }
  }
 },
 "nbformat": 4,
 "nbformat_minor": 2
}
